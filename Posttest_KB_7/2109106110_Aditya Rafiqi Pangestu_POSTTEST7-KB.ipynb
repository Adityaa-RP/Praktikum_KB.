{
 "cells": [
  {
   "cell_type": "markdown",
   "metadata": {},
   "source": [
    "# Link :\n",
    "\n",
    "https://www.kaggle.com/datasets/ratnasarirs/dataset-skripsi-covid19"
   ]
  },
  {
   "cell_type": "markdown",
   "metadata": {},
   "source": [
    "# Import Library"
   ]
  },
  {
   "cell_type": "code",
   "execution_count": 3,
   "metadata": {},
   "outputs": [],
   "source": [
    "import tensorflow as tf\n",
    "import matplotlib.pyplot as plt\n",
    "from keras.preprocessing.image import ImageDataGenerator\n",
    "import os"
   ]
  },
  {
   "cell_type": "markdown",
   "metadata": {},
   "source": [
    "# Melakukan Augmentasi Gambar"
   ]
  },
  {
   "cell_type": "code",
   "execution_count": 4,
   "metadata": {},
   "outputs": [],
   "source": [
    "# Augmentasi data\n",
    "train_datagen = ImageDataGenerator(\n",
    "    rescale = 1.0/255.0,\n",
    "    rotation_range = 0.45,\n",
    "    width_shift_range = 0.25,\n",
    "    height_shift_range = 0.25,\n",
    "    shear_range = 0.2,\n",
    "    zoom_range = 0.25,\n",
    "    horizontal_flip = True,\n",
    "    fill_mode = 'nearest',\n",
    ")\n",
    "\n",
    "# Normalisasi data val dan test\n",
    "val_datagen = ImageDataGenerator(rescale = 1.0/255.0)\n",
    "test_datagen = ImageDataGenerator(rescale = 1.0/255.0)"
   ]
  },
  {
   "cell_type": "markdown",
   "metadata": {},
   "source": [
    "# Split dataset menjadi train,val dan test\n",
    "# Ini akan membuat directory untuk train, val, dan test nya"
   ]
  },
  {
   "cell_type": "code",
   "execution_count": null,
   "metadata": {},
   "outputs": [],
   "source": [
    "import shutil\n",
    "from sklearn.model_selection import train_test_split\n",
    "\n",
    "# Path ke direktori utama yang berisi semua folder kelas\n",
    "dataset_dir = 'Dataset'\n",
    "\n",
    "# Proporsi pembagian dataset\n",
    "train_ratio = 0.7  # Proporsi data pelatihan\n",
    "val_ratio = 0.15  # Proporsi data validasi\n",
    "test_ratio = 0.15  # Proporsi data pengujian\n",
    "\n",
    "# Nama-nama folder kelas\n",
    "class_names = [\n",
    "    'COVID-19'\n",
    "    'NORMAL'\n",
    "    'Viral Pneumonia'\n",
    " \n",
    "]\n",
    "\n",
    "# Membagi data untuk setiap kelas\n",
    "for class_name in class_names:\n",
    "    class_dir = os.path.join(dataset_dir, class_name)\n",
    "    \n",
    "    filenames = os.listdir(class_dir)\n",
    "    \n",
    "    train_files, test_val_files = train_test_split(filenames, test_size=(val_ratio + test_ratio), random_state=42)\n",
    "    val_files, test_files = train_test_split(test_val_files, test_size=test_ratio / (val_ratio + test_ratio), random_state=42)\n",
    "    \n",
    "    # Membuat direktori untuk setiap subset\n",
    "    train_dir = os.path.join(dataset_dir, 'train', class_name)\n",
    "    val_dir = os.path.join(dataset_dir, 'val', class_name)\n",
    "    test_dir = os.path.join(dataset_dir, 'test', class_name)\n",
    "    \n",
    "    os.makedirs(train_dir, exist_ok=True)\n",
    "    os.makedirs(val_dir, exist_ok=True)\n",
    "    os.makedirs(test_dir, exist_ok=True)\n",
    "    \n",
    "    # Menyalin gambar ke direktori subset yang sesuai\n",
    "    for filename in train_files:\n",
    "        src = os.path.join(class_dir, filename)\n",
    "        dst = os.path.join(train_dir, filename)\n",
    "        shutil.copy(src, dst)\n",
    "    \n",
    "    for filename in val_files:\n",
    "        src = os.path.join(class_dir, filename)\n",
    "        dst = os.path.join(val_dir, filename)\n",
    "        shutil.copy(src, dst)\n",
    "    \n",
    "    for filename in test_files:\n",
    "        src = os.path.join(class_dir, filename)\n",
    "        dst = os.path.join(test_dir, filename)\n",
    "        shutil.copy(src, dst)"
   ]
  },
  {
   "cell_type": "markdown",
   "metadata": {},
   "source": [
    "# Membuat Flow from Directory"
   ]
  },
  {
   "cell_type": "code",
   "execution_count": 5,
   "metadata": {},
   "outputs": [
    {
     "name": "stdout",
     "output_type": "stream",
     "text": [
      "Found 12 images belonging to 1 classes.\n",
      "Found 12 images belonging to 1 classes.\n",
      "Found 12 images belonging to 1 classes.\n"
     ]
    }
   ],
   "source": [
    "# Direktori untuk setiap subset\n",
    "train_dir = 'Dataset\\\\test'\n",
    "val_dir = 'Dataset\\\\val'\n",
    "test_dir = 'Dataset\\\\test'\n",
    "\n",
    "# Membuat generator data untuk setiap subset\n",
    "train_generator = train_datagen.flow_from_directory(\n",
    "    train_dir,\n",
    "    target_size=(150, 150),\n",
    "    batch_size=32,\n",
    "    shuffle=True,\n",
    "    class_mode='categorical'\n",
    ")\n",
    "\n",
    "val_generator = val_datagen.flow_from_directory(\n",
    "    val_dir,\n",
    "    target_size=(150, 150),\n",
    "    batch_size=32,\n",
    "    class_mode='categorical'\n",
    ")\n",
    "\n",
    "test_generator = test_datagen.flow_from_directory(\n",
    "    test_dir,\n",
    "    target_size=(150, 150),\n",
    "    batch_size=32,\n",
    "    class_mode='categorical'\n",
    ")"
   ]
  },
  {
   "cell_type": "markdown",
   "metadata": {},
   "source": [
    "# sequential model"
   ]
  },
  {
   "cell_type": "code",
   "execution_count": 6,
   "metadata": {},
   "outputs": [],
   "source": [
    "from tensorflow.keras import Sequential\n",
    "from tensorflow.keras.layers import Conv2D, MaxPooling2D, Flatten, Dense\n",
    "\n",
    "# Membuat model Sequential\n",
    "model = Sequential()\n",
    "\n",
    "# CNN (Feature Extraction Layer)\n",
    "model.add(Conv2D(128, (3, 3), activation='relu', input_shape=(150, 150, 3)))\n",
    "model.add(MaxPooling2D((2, 2)))\n",
    "\n",
    "model.add(Conv2D(64, (3, 3), activation='relu'))\n",
    "model.add(MaxPooling2D((2, 2)))\n",
    "\n",
    "model.add(Conv2D(32, (3, 3), activation='relu'))\n",
    "model.add(MaxPooling2D((2, 2)))\n",
    "\n",
    "# Tambahkan layer Flatten\n",
    "model.add(Flatten())\n",
    "\n",
    "# DNN (Fully Connected Layer)\n",
    "model.add(Dense(64, activation='relu'))\n",
    "model.add(Dense(4, activation='softmax'))\n",
    "\n",
    "# Compile model\n",
    "model.compile(\n",
    "    optimizer = 'Adam',\n",
    "    loss='categorical_crossentropy',\n",
    "    metrics=['accuracy']\n",
    ")"
   ]
  },
  {
   "cell_type": "code",
   "execution_count": 7,
   "metadata": {},
   "outputs": [
    {
     "name": "stdout",
     "output_type": "stream",
     "text": [
      "Epoch 1/10\n",
      "1/1 [==============================] - 2s 2s/step - loss: 5.5716 - accuracy: 1.0000 - val_loss: 5.7167 - val_accuracy: 0.0000e+00\n",
      "Epoch 2/10\n",
      "1/1 [==============================] - 1s 1s/step - loss: 5.7008 - accuracy: 0.0000e+00 - val_loss: 7.6991 - val_accuracy: 0.0000e+00\n",
      "Epoch 3/10\n",
      "1/1 [==============================] - 1s 980ms/step - loss: 7.4878 - accuracy: 0.0000e+00 - val_loss: 14.9563 - val_accuracy: 0.0000e+00\n",
      "Epoch 4/10\n",
      "1/1 [==============================] - 1s 884ms/step - loss: 14.2934 - accuracy: 0.0000e+00 - val_loss: 26.9166 - val_accuracy: 0.0000e+00\n",
      "Epoch 5/10\n",
      "1/1 [==============================] - 1s 883ms/step - loss: 24.6171 - accuracy: 0.0000e+00 - val_loss: 43.2731 - val_accuracy: 0.0000e+00\n",
      "Epoch 6/10\n",
      "1/1 [==============================] - 1s 823ms/step - loss: 41.5294 - accuracy: 0.0000e+00 - val_loss: 64.6101 - val_accuracy: 0.0000e+00\n",
      "Epoch 7/10\n",
      "1/1 [==============================] - 1s 856ms/step - loss: 62.5332 - accuracy: 0.0000e+00 - val_loss: 91.5534 - val_accuracy: 0.0000e+00\n",
      "Epoch 8/10\n",
      "1/1 [==============================] - 1s 997ms/step - loss: 86.3665 - accuracy: 0.0000e+00 - val_loss: 127.5633 - val_accuracy: 0.0000e+00\n",
      "Epoch 9/10\n",
      "1/1 [==============================] - 1s 937ms/step - loss: 119.0623 - accuracy: 0.0000e+00 - val_loss: 175.0888 - val_accuracy: 0.0000e+00\n",
      "Epoch 10/10\n",
      "1/1 [==============================] - 1s 796ms/step - loss: 165.1235 - accuracy: 0.0000e+00 - val_loss: 234.1057 - val_accuracy: 0.0000e+00\n"
     ]
    }
   ],
   "source": [
    "# Melatih model dengan data menggunakan model.fit()\n",
    "history = model.fit(train_generator, validation_data=val_generator, epochs=10, verbose=1)"
   ]
  },
  {
   "cell_type": "markdown",
   "metadata": {},
   "source": [
    "# Evaluasi model"
   ]
  },
  {
   "cell_type": "code",
   "execution_count": 8,
   "metadata": {},
   "outputs": [
    {
     "name": "stdout",
     "output_type": "stream",
     "text": [
      "1/1 [==============================] - 0s 176ms/step - loss: 229.3428 - accuracy: 0.0000e+00\n",
      "Loss on test data: 229.3428497314453\n",
      "Accuracy on test data: 0.0\n"
     ]
    }
   ],
   "source": [
    "# Evaluasi model terhadap data pengujian\n",
    "test_loss, test_accuracy = model.evaluate(test_generator)\n",
    "\n",
    "print(f'Loss on test data: {test_loss}')\n",
    "print(f'Accuracy on test data: {test_accuracy}')"
   ]
  },
  {
   "cell_type": "markdown",
   "metadata": {},
   "source": [
    "# Grafik metrik (akurasi/error) dan loss terhadap epoch"
   ]
  },
  {
   "cell_type": "code",
   "execution_count": 9,
   "metadata": {},
   "outputs": [
    {
     "data": {
      "image/png": "[encoded data removed]",
      "text/plain": [
       "<Figure size 1200x400 with 2 Axes>"
      ]
     },
     "metadata": {},
     "output_type": "display_data"
    }
   ],
   "source": [
    "import matplotlib.pyplot as plt\n",
    "\n",
    "# Dapatkan metrik dari history pelatihan\n",
    "train_accuracy = history.history['accuracy']\n",
    "val_accuracy = history.history['val_accuracy']\n",
    "train_loss = history.history['loss']\n",
    "val_loss = history.history['val_loss']\n",
    "\n",
    "# Plot metrik akurasi\n",
    "plt.figure(figsize=(12, 4))\n",
    "plt.subplot(1, 2, 1)\n",
    "plt.plot(train_accuracy, label='Train Accuracy', marker='o')\n",
    "plt.plot(val_accuracy, label='Validation Accuracy', marker='o')\n",
    "plt.title('Training and Validation Accuracy')\n",
    "plt.xlabel('Epoch')\n",
    "plt.ylabel('Accuracy')\n",
    "plt.legend()\n",
    "\n",
    "# Plot metrik loss\n",
    "plt.subplot(1, 2, 2)\n",
    "plt.plot(train_loss, label='Train Loss', marker='o')\n",
    "plt.plot(val_loss, label='Validation Loss', marker='o')\n",
    "plt.title('Training and Validation Loss')\n",
    "plt.xlabel('Epoch')\n",
    "plt.ylabel('Loss')\n",
    "plt.legend()\n",
    "\n",
    "plt.tight_layout()\n",
    "plt.show()"
   ]
  }
 ],
 "metadata": {
  "kernelspec": {
   "display_name": "Python 3",
   "language": "python",
   "name": "python3"
  },
  "language_info": {
   "codemirror_mode": {
    "name": "ipython",
    "version": 3
   },
   "file_extension": ".py",
   "mimetype": "text/x-python",
   "name": "python",
   "nbconvert_exporter": "python",
   "pygments_lexer": "ipython3",
   "version": "3.10.7"
  }
 },
 "nbformat": 4,
 "nbformat_minor": 2
}
